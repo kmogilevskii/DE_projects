{
  "nbformat": 4,
  "nbformat_minor": 0,
  "metadata": {
    "colab": {
      "name": "Bank Assignment.ipynb",
      "provenance": []
    },
    "kernelspec": {
      "name": "python3",
      "display_name": "Python 3"
    },
    "language_info": {
      "name": "python"
    }
  },
  "cells": [
    {
      "cell_type": "markdown",
      "source": [
        "# Bank Assignment\n",
        "\n",
        "## Credit card skippers/defaulters:\n",
        "\n",
        "- Assign 1 point to customer for short payment, where a short payment means when customer fails to clear at least 70% of its monthly spends.\n",
        "\n",
        "- Assign 1 point to customer where he has spent 100% of his max_limit but did not clear the full amount.\n",
        "\n",
        "- If for any month customer is meeting both the above conditions, assign 1 additional point.\n",
        "\n",
        "- Sum up all the points for a customer and output in file top-10 card skippers.\n",
        "\n",
        "## Loan Defaulters:\n",
        "\n",
        "- For Personal loan category, Bank does not accept short or late payments. If a person has not paid monthly installment then that month's entry won't be present in the file.\n",
        "\n",
        "- For Medical loan, Bank does accepts late payments but it should be the full amount. It is assumed that there is every month's data/record for Medical Loan.\n",
        "\n",
        "- Medical Loan defaulters : If customer has made a total of 3 or more late payments.\n",
        "\n",
        "- Personal Loan defaulters : If customer has missed a total of 4 or more installments OR missed 2 consecutive installments."
      ],
      "metadata": {
        "id": "peWlXdpBtrFT"
      }
    },
    {
      "cell_type": "code",
      "execution_count": 1,
      "metadata": {
        "colab": {
          "base_uri": "https://localhost:8080/"
        },
        "id": "dELq6LfJM6CF",
        "outputId": "b964edd5-3ca3-42cd-97d9-1a2b80bb9633"
      },
      "outputs": [
        {
          "output_type": "stream",
          "name": "stdout",
          "text": [
            "\u001b[K     |████████████████████████████████| 9.8 MB 43.2 MB/s \n",
            "\u001b[K     |████████████████████████████████| 151 kB 56.4 MB/s \n",
            "\u001b[K     |████████████████████████████████| 2.3 MB 41.9 MB/s \n",
            "\u001b[K     |████████████████████████████████| 829 kB 52.2 MB/s \n",
            "\u001b[K     |████████████████████████████████| 247 kB 53.8 MB/s \n",
            "\u001b[K     |████████████████████████████████| 62 kB 750 kB/s \n",
            "\u001b[?25h  Building wheel for avro-python3 (setup.py) ... \u001b[?25l\u001b[?25hdone\n",
            "  Building wheel for dill (setup.py) ... \u001b[?25l\u001b[?25hdone\n",
            "  Building wheel for future (setup.py) ... \u001b[?25l\u001b[?25hdone\n",
            "\u001b[31mERROR: pip's dependency resolver does not currently take into account all the packages that are installed. This behaviour is the source of the following dependency conflicts.\n",
            "multiprocess 0.70.12.2 requires dill>=0.3.4, but you have dill 0.3.1.1 which is incompatible.\n",
            "google-colab 1.0.0 requires requests~=2.23.0, but you have requests 2.26.0 which is incompatible.\n",
            "datascience 0.10.6 requires folium==0.2.1, but you have folium 0.8.3 which is incompatible.\u001b[0m\n"
          ]
        }
      ],
      "source": [
        "!{'pip install --quiet apache-beam'}"
      ]
    },
    {
      "cell_type": "code",
      "source": [
        "import apache_beam as beam\n",
        "from datetime import datetime\n",
        "\n",
        "\n",
        "def calculate_points(element):\n",
        "\n",
        "  customer_id, first_name, last_name, realtionship_id, card_type, max_limit, spent, cash_withdrawn,payment_cleared,payment_date = element.split(',')\n",
        "  #[CT28383,Miyako,Burns,R_7488,Issuers,500,490,38,101,30-01-2018]\n",
        "  \n",
        "  spent = int(spent)    # spent = 490\n",
        "  payment_cleared = int(payment_cleared)   #payment_cleared = 101\n",
        "  max_limit = int(max_limit)               # max_limit = 500\n",
        "  \n",
        "  key_name = customer_id + ', ' + first_name + ' ' + last_name     # key_name = CT28383,Miyako Burns\n",
        "  defaulter_points = 0\n",
        "  \n",
        "  # payment_cleared is less than 70% of spent - give 1 point\n",
        "  if payment_cleared < (spent * 0.7): \n",
        "     defaulter_points += 1                                                # defaulter_points =  1 \n",
        " \n",
        "  # spend is = 100% of max limit and any amount of payment is pending\n",
        "  if (spent == max_limit) and (payment_cleared < spent): \n",
        "     defaulter_points += 1                                                # defaulter_points =  2\n",
        "   \n",
        "  if (spent == max_limit) and (payment_cleared < (spent*0.7)): \n",
        "     defaulter_points += 1                                                # defaulter_points = 3\n",
        "                                  \n",
        "  return key_name, defaulter_points      \n",
        "\n",
        "\n",
        "def is_medical_defaulter(record):\n",
        "  due_date = datetime.strptime(record[6].strip(), \"%d-%m-%Y\")\n",
        "  payment_date = datetime.strptime(record[-1].strip(), \"%d-%m-%Y\")\n",
        "  if payment_date > due_date:\n",
        "    record.append(1)\n",
        "  else:\n",
        "    record.append(0)\n",
        "  return record\n",
        "\n",
        "\n",
        "def format_defaulters(record):\n",
        "  return record[0] + \" has \" + str(record[1]) + \" defaults\"\n",
        "\n",
        "\n",
        "def format_result(sum_pair):\n",
        "  key_name, points = sum_pair\n",
        "  return str(key_name) + ', ' + str(points) + ' fraud_points' \n",
        "\n",
        "\n",
        "def extract_month(record):\n",
        "  payment_date = datetime.strptime(record[-1].strip(), \"%d-%m-%Y\")\n",
        "  return (record[0] + \", \" + record[1] + \" \" + record[2], payment_date.month)\n",
        "\n",
        "\n",
        "def calc_num_defaults(record):\n",
        "  key, months = record\n",
        "  months.sort(reverse=False)\n",
        "  max_total_defaults = 4\n",
        "  max_consecutive_defaults = 2\n",
        "  total_defaults = 12 - len(months)\n",
        "\n",
        "  if total_defaults >= max_total_defaults:\n",
        "    return (key, total_defaults)\n",
        "\n",
        "  consecutive_defaults = 0\n",
        "  tmp = months[0] - 1\n",
        "  if tmp > consecutive_defaults:\n",
        "    consecutive_defaults = tmp\n",
        "\n",
        "  tmp = 12 - months[-1]\n",
        "  if tmp > consecutive_defaults:\n",
        "    consecutive_defaults = tmp\n",
        "\n",
        "  for i in range(1, len(months)):\n",
        "    tmp = months[i] - months[i - 1] - 1\n",
        "    if tmp > consecutive_defaults:\n",
        "      consecutive_defaults = tmp\n",
        "\n",
        "  return (key, consecutive_defaults)\n",
        "\n",
        "\n",
        "\n",
        "def sorting_output(record):\n",
        "  key, sort_data = record\n",
        "  sort_data.sort(key=lambda x: x[1], reverse=True)\n",
        "  return sort_data[:10]\n",
        "\n",
        "\n",
        "class MyTransform(beam.PTransform):\n",
        "  def expand(self, input_collection):\n",
        "    return (\n",
        "        input_collection \n",
        "        | \"Mapping each record with 1\" >> beam.Map(lambda record: (1, record))\n",
        "        | \"Grouping all records to a single record\" >> beam.GroupByKey()\n",
        "        | \"Sorting Records and getting to new line\" >> beam.FlatMap(sorting_output)\n",
        "        | \"Formatting output\" >> beam.Map(format_defaulters)\n",
        "        \n",
        "    )\n",
        "\n",
        "\n",
        "with beam.Pipeline() as p:\n",
        "  card_defaulter = (\n",
        "                  p\n",
        "                  | 'Read credit card data' >> beam.io.ReadFromText('cards.txt',skip_header_lines=1)\n",
        "                  | 'Calculate defaulter points' >> beam.Map(calculate_points)                            \n",
        "                  | 'Combine points for defaulters' >> beam.CombinePerKey(sum)                             \n",
        "                  | 'Filter card defaulters' >> beam.Filter(lambda element: element[1] > 0)\n",
        "                  | 'Format output' >> beam.Map(format_result)                                           \n",
        "                  | 'Write credit card data' >> beam.io.WriteToText('outputs/card_skippers') \n",
        "                  )\n",
        "\n",
        "\n",
        "  medical_loan_defaulters = (\n",
        "      p | \"First Data Read\" >> beam.io.ReadFromText(\"loan.txt\", skip_header_lines=1)\n",
        "        | beam.Map(lambda record: record.split(\",\"))\n",
        "        | beam.Filter(lambda record: record[5].strip() == \"Medical Loan\")\n",
        "        | beam.Map(is_medical_defaulter)\n",
        "        | beam.Map(lambda record: (record[0] + \", \" + record[1] + \" \" + record[2], record[-1]))\n",
        "        | beam.CombinePerKey(sum)\n",
        "        | \"First use of custom transform\" >> MyTransform()\n",
        "  )\n",
        "\n",
        "  personal_loan_defaulters = (\n",
        "      p | \"Second Data Read\" >> beam.io.ReadFromText(\"loan.txt\", skip_header_lines=1)\n",
        "        | beam.Map(lambda record: record.split(\",\"))\n",
        "        | beam.Filter(lambda record: record[5].strip() == \"Personal Loan\")\n",
        "        | beam.Map(extract_month)\n",
        "        | beam.GroupByKey()\n",
        "        | beam.Map(calc_num_defaults)\n",
        "        | \"Second use of custom transform\" >> MyTransform()\n",
        "  )\n",
        "\n",
        "  all_defaulters = (\n",
        "      (medical_loan_defaulters, personal_loan_defaulters) | beam.Flatten()\n",
        "                                                          | beam.io.WriteToText(\"output\")\n",
        "  )"
      ],
      "metadata": {
        "colab": {
          "base_uri": "https://localhost:8080/"
        },
        "id": "mDpKo264NBfz",
        "outputId": "58e312aa-4312-41b7-f02d-4f2b5d0b2f7f"
      },
      "execution_count": 4,
      "outputs": [
        {
          "output_type": "stream",
          "name": "stderr",
          "text": [
            "WARNING:root:Make sure that locally built Python SDK docker image has Python 3.7 interpreter.\n"
          ]
        }
      ]
    },
    {
      "cell_type": "code",
      "source": [
        ""
      ],
      "metadata": {
        "id": "tGMT4uLIaiPK"
      },
      "execution_count": null,
      "outputs": []
    }
  ]
}